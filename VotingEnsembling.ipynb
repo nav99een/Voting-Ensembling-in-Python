{
  "nbformat": 4,
  "nbformat_minor": 0,
  "metadata": {
    "colab": {
      "name": "VotingEnsembling_Tutorial.ipynb",
      "provenance": [],
      "collapsed_sections": []
    },
    "kernelspec": {
      "name": "python3",
      "display_name": "Python 3"
    }
  },
  "cells": [
    {
      "cell_type": "code",
      "metadata": {
        "id": "LGuvgfHdyZPT",
        "colab_type": "code",
        "colab": {}
      },
      "source": [
        "import sklearn\n",
        "import numpy as np\n",
        "import pandas as pd\n",
        "import matplotlib.pyplot as plt\n",
        "import seaborn as sns\n",
        "%matplotlib inline\n",
        "\n",
        "from sklearn.datasets import make_classification\n",
        "from sklearn.model_selection import KFold, RepeatedKFold, RepeatedStratifiedKFold, train_test_split, cross_val_score\n",
        "from sklearn.ensemble import VotingClassifier\n",
        "from sklearn.neighbors import KNeighborsClassifier\n",
        "from sklearn.metrics import accuracy_score"
      ],
      "execution_count": 0,
      "outputs": []
    },
    {
      "cell_type": "markdown",
      "metadata": {
        "id": "uKtBZTyBhqDS",
        "colab_type": "text"
      },
      "source": [
        "##Voting Ensemble for Classification"
      ]
    },
    {
      "cell_type": "markdown",
      "metadata": {
        "id": "k6bzG3bqIW-S",
        "colab_type": "text"
      },
      "source": [
        "   **For Classification task, there are two approaches to the majority vote prediction; they are hard voting and soft voting.**\n",
        "\n",
        "   Hard voting involves summing the predictions for each class label and predicting the class label with the most votes. Soft voting involves summing the predicted probabilities (or probability-like scores) for each class label and predicting the class label with the largest probability.\n",
        "\n",
        "   1. **Hard Voting**. Predict the class with the largest sum of votes from models\n",
        "   2. **Soft Voting**. Predict the class with the **largest summed probability** from models."
      ]
    },
    {
      "cell_type": "markdown",
      "metadata": {
        "id": "ro9IOq2fJMvS",
        "colab_type": "text"
      },
      "source": [
        "###Utility Functions"
      ]
    },
    {
      "cell_type": "code",
      "metadata": {
        "id": "ktgr9kLVzrKW",
        "colab_type": "code",
        "colab": {}
      },
      "source": [
        "def get_dataset():\n",
        "    X,y = make_classification(n_samples=1000, n_features=20, n_informative=15, n_redundant=5, random_state=1)\n",
        "    return X,y"
      ],
      "execution_count": 0,
      "outputs": []
    },
    {
      "cell_type": "code",
      "metadata": {
        "id": "FRsLtH3FJP57",
        "colab_type": "code",
        "colab": {}
      },
      "source": [
        "def get_voting(vote):\n",
        "    models = list()\n",
        "    models.append(('knn1', KNeighborsClassifier(n_neighbors=1)))\n",
        "    models.append(('knn3', KNeighborsClassifier(n_neighbors=3)))\n",
        "    models.append(('knn5', KNeighborsClassifier(n_neighbors=5)))\n",
        "    models.append(('knn7', KNeighborsClassifier(n_neighbors=7)))\n",
        "    models.append(('knn9', KNeighborsClassifier(n_neighbors=9)))\n",
        "    ensemble = VotingClassifier(models,voting=vote)\n",
        "    return ensemble"
      ],
      "execution_count": 0,
      "outputs": []
    },
    {
      "cell_type": "code",
      "metadata": {
        "id": "HNa0-z2VJP2I",
        "colab_type": "code",
        "colab": {}
      },
      "source": [
        "def final_model(vote):\n",
        "    model = dict()\n",
        "    model['knn1'] = KNeighborsClassifier(n_neighbors=1)\n",
        "    model['knn3'] = KNeighborsClassifier(n_neighbors=3)\n",
        "    model['knn5'] = KNeighborsClassifier(n_neighbors=5)\n",
        "    model['knn7'] = KNeighborsClassifier(n_neighbors=7)\n",
        "    model['knn9'] = KNeighborsClassifier(n_neighbors=9)\n",
        "    model[vote+'-voting'] = get_voting(vote)\n",
        "    return model"
      ],
      "execution_count": 0,
      "outputs": []
    },
    {
      "cell_type": "code",
      "metadata": {
        "id": "A20wym1dJPxi",
        "colab_type": "code",
        "colab": {}
      },
      "source": [
        "def evaluate(model, X, y):\n",
        "    cv = RepeatedStratifiedKFold(n_splits=10, n_repeats=3, random_state=42)\n",
        "    score = cross_val_score(model,X, y, cv = cv, n_jobs=1, scoring='accuracy', error_score='raise')\n",
        "    return score"
      ],
      "execution_count": 0,
      "outputs": []
    },
    {
      "cell_type": "markdown",
      "metadata": {
        "id": "K2fb19Y07Twt",
        "colab_type": "text"
      },
      "source": [
        "###Data Loading And preparation"
      ]
    },
    {
      "cell_type": "code",
      "metadata": {
        "id": "RJ3_GHZ67Soi",
        "colab_type": "code",
        "colab": {}
      },
      "source": [
        "X,y = get_dataset()\n",
        "x_train, x_test, y_train, y_test = train_test_split(X, y, test_size=0.2)"
      ],
      "execution_count": 0,
      "outputs": []
    },
    {
      "cell_type": "markdown",
      "metadata": {
        "id": "f-1fJ8XM63BI",
        "colab_type": "text"
      },
      "source": [
        "###Data Visualization"
      ]
    },
    {
      "cell_type": "code",
      "metadata": {
        "id": "rGX-VAFC1Qnc",
        "colab_type": "code",
        "colab": {}
      },
      "source": [
        "from sklearn.decomposition import PCA\n",
        "pca = PCA(n_components=2)\n",
        "x = pca.fit_transform(X)"
      ],
      "execution_count": 0,
      "outputs": []
    },
    {
      "cell_type": "code",
      "metadata": {
        "id": "PghgnLFQ18QK",
        "colab_type": "code",
        "outputId": "2708ea30-ffa7-4181-e0db-e439ebc85f2a",
        "colab": {
          "base_uri": "https://localhost:8080/",
          "height": 191
        }
      },
      "source": [
        "x_df = pd.DataFrame(x)\n",
        "x_df.head()"
      ],
      "execution_count": 23,
      "outputs": [
        {
          "output_type": "execute_result",
          "data": {
            "text/html": [
              "<div>\n",
              "<style scoped>\n",
              "    .dataframe tbody tr th:only-of-type {\n",
              "        vertical-align: middle;\n",
              "    }\n",
              "\n",
              "    .dataframe tbody tr th {\n",
              "        vertical-align: top;\n",
              "    }\n",
              "\n",
              "    .dataframe thead th {\n",
              "        text-align: right;\n",
              "    }\n",
              "</style>\n",
              "<table border=\"1\" class=\"dataframe\">\n",
              "  <thead>\n",
              "    <tr style=\"text-align: right;\">\n",
              "      <th></th>\n",
              "      <th>0</th>\n",
              "      <th>1</th>\n",
              "    </tr>\n",
              "  </thead>\n",
              "  <tbody>\n",
              "    <tr>\n",
              "      <th>0</th>\n",
              "      <td>5.351991</td>\n",
              "      <td>-7.663890</td>\n",
              "    </tr>\n",
              "    <tr>\n",
              "      <th>1</th>\n",
              "      <td>14.432757</td>\n",
              "      <td>-0.042869</td>\n",
              "    </tr>\n",
              "    <tr>\n",
              "      <th>2</th>\n",
              "      <td>1.482077</td>\n",
              "      <td>8.314692</td>\n",
              "    </tr>\n",
              "    <tr>\n",
              "      <th>3</th>\n",
              "      <td>4.818884</td>\n",
              "      <td>-3.339531</td>\n",
              "    </tr>\n",
              "    <tr>\n",
              "      <th>4</th>\n",
              "      <td>2.359581</td>\n",
              "      <td>-7.907423</td>\n",
              "    </tr>\n",
              "  </tbody>\n",
              "</table>\n",
              "</div>"
            ],
            "text/plain": [
              "           0         1\n",
              "0   5.351991 -7.663890\n",
              "1  14.432757 -0.042869\n",
              "2   1.482077  8.314692\n",
              "3   4.818884 -3.339531\n",
              "4   2.359581 -7.907423"
            ]
          },
          "metadata": {
            "tags": []
          },
          "execution_count": 23
        }
      ]
    },
    {
      "cell_type": "code",
      "metadata": {
        "id": "LQHOa3A_0xWO",
        "colab_type": "code",
        "outputId": "88659b29-9b06-4b92-af8e-b75a3f3204e8",
        "colab": {
          "base_uri": "https://localhost:8080/",
          "height": 606
        }
      },
      "source": [
        "plt.figure(figsize=(15,10))\n",
        "sns.scatterplot(x_df[0], x_df[1], hue=y)\n",
        "plt.show()"
      ],
      "execution_count": 24,
      "outputs": [
        {
          "output_type": "display_data",
          "data": {
            "image/png": "[encoded data removed]",
            "text/plain": [
              "<Figure size 1080x720 with 1 Axes>"
            ]
          },
          "metadata": {
            "tags": [],
            "needs_background": "light"
          }
        }
      ]
    },
    {
      "cell_type": "code",
      "metadata": {
        "id": "6pzxpPp40_lh",
        "colab_type": "code",
        "colab": {}
      },
      "source": [
        ""
      ],
      "execution_count": 0,
      "outputs": []
    },
    {
      "cell_type": "markdown",
      "metadata": {
        "id": "vPQ-zocO0OhQ",
        "colab_type": "text"
      },
      "source": [
        "###Hard Voting Ensemble for Classification"
      ]
    },
    {
      "cell_type": "code",
      "metadata": {
        "id": "Qu6CcYqvLTOE",
        "colab_type": "code",
        "colab": {
          "base_uri": "https://localhost:8080/",
          "height": 115
        },
        "outputId": "c840c7c6-c7c1-4812-8562-790ed4996316"
      },
      "source": [
        "voting_type = 'hard'\n",
        "models = final_model(voting_type)\n",
        "names, res = list(), list()\n",
        "\n",
        "for (name, model) in models.items():\n",
        "    score = evaluate(model, x_train, y_train)\n",
        "    res.append(score)\n",
        "    names.append(name)\n",
        "    print('>>>%s %.3f (%.3f)' % (name, score.mean(), score.std()))"
      ],
      "execution_count": 45,
      "outputs": [
        {
          "output_type": "stream",
          "text": [
            ">>>knn1 0.889 (0.034)\n",
            ">>>knn3 0.921 (0.029)\n",
            ">>>knn5 0.920 (0.029)\n",
            ">>>knn7 0.919 (0.034)\n",
            ">>>knn9 0.926 (0.031)\n",
            ">>>hard-voting 0.927 (0.031)\n"
          ],
          "name": "stdout"
        }
      ]
    },
    {
      "cell_type": "code",
      "metadata": {
        "id": "V_RyMt0LLTGk",
        "colab_type": "code",
        "colab": {
          "base_uri": "https://localhost:8080/",
          "height": 512
        },
        "outputId": "2d4e73af-8224-40f9-fb70-284b6044db18"
      },
      "source": [
        "plt.figure(figsize=(10,8))\n",
        "plt.boxplot(res, labels=names, showmeans=True)\n",
        "plt.xlabel('Model Names')\n",
        "plt.ylabel('Accuracy Score')\n",
        "plt.title('Performance of various Models')\n",
        "plt.show()"
      ],
      "execution_count": 29,
      "outputs": [
        {
          "output_type": "display_data",
          "data": {
            "image/png": "[encoded data removed]",
            "text/plain": [
              "<Figure size 720x576 with 1 Axes>"
            ]
          },
          "metadata": {
            "tags": [],
            "needs_background": "light"
          }
        }
      ]
    },
    {
      "cell_type": "markdown",
      "metadata": {
        "id": "1CGevjRnNsnU",
        "colab_type": "text"
      },
      "source": [
        "###Prediction using Ensemble models"
      ]
    },
    {
      "cell_type": "code",
      "metadata": {
        "id": "hXBAgOkcLTg7",
        "colab_type": "code",
        "colab": {}
      },
      "source": [
        "model = get_voting()\n",
        "model.fit(x_train, y_train)\n",
        "model_pred = model.predict(x_test)"
      ],
      "execution_count": 0,
      "outputs": []
    },
    {
      "cell_type": "code",
      "metadata": {
        "id": "m2UAn86fN_3H",
        "colab_type": "code",
        "colab": {
          "base_uri": "https://localhost:8080/",
          "height": 33
        },
        "outputId": "1c777de1-8181-4ab4-9177-ff376418fcf8"
      },
      "source": [
        "print(\"accuracy score : \", accuracy_score(y_test, model_pred))"
      ],
      "execution_count": 32,
      "outputs": [
        {
          "output_type": "stream",
          "text": [
            "accuracy score :  0.945\n"
          ],
          "name": "stdout"
        }
      ]
    },
    {
      "cell_type": "markdown",
      "metadata": {
        "id": "80xftsE9ObSM",
        "colab_type": "text"
      },
      "source": [
        "####Prediction with other models"
      ]
    },
    {
      "cell_type": "code",
      "metadata": {
        "id": "px0VFqV7ORCq",
        "colab_type": "code",
        "colab": {
          "base_uri": "https://localhost:8080/",
          "height": 781
        },
        "outputId": "6c5d44ea-cee6-4b20-f374-0acb49755dfd"
      },
      "source": [
        "models"
      ],
      "execution_count": 33,
      "outputs": [
        {
          "output_type": "execute_result",
          "data": {
            "text/plain": [
              "{'hard-voting': VotingClassifier(estimators=[('knn1',\n",
              "                               KNeighborsClassifier(algorithm='auto',\n",
              "                                                    leaf_size=30,\n",
              "                                                    metric='minkowski',\n",
              "                                                    metric_params=None,\n",
              "                                                    n_jobs=None, n_neighbors=1,\n",
              "                                                    p=2, weights='uniform')),\n",
              "                              ('knn3',\n",
              "                               KNeighborsClassifier(algorithm='auto',\n",
              "                                                    leaf_size=30,\n",
              "                                                    metric='minkowski',\n",
              "                                                    metric_params=None,\n",
              "                                                    n_jobs=None, n_neighbors=3,\n",
              "                                                    p=2, weights='uniform')),\n",
              "                              ('knn5',\n",
              "                               KNeighborsClassifie...\n",
              "                              ('knn7',\n",
              "                               KNeighborsClassifier(algorithm='auto',\n",
              "                                                    leaf_size=30,\n",
              "                                                    metric='minkowski',\n",
              "                                                    metric_params=None,\n",
              "                                                    n_jobs=None, n_neighbors=7,\n",
              "                                                    p=2, weights='uniform')),\n",
              "                              ('knn9',\n",
              "                               KNeighborsClassifier(algorithm='auto',\n",
              "                                                    leaf_size=30,\n",
              "                                                    metric='minkowski',\n",
              "                                                    metric_params=None,\n",
              "                                                    n_jobs=None, n_neighbors=9,\n",
              "                                                    p=2, weights='uniform'))],\n",
              "                  flatten_transform=True, n_jobs=None, voting='hard',\n",
              "                  weights=None),\n",
              " 'knn1': KNeighborsClassifier(algorithm='auto', leaf_size=30, metric='minkowski',\n",
              "                      metric_params=None, n_jobs=None, n_neighbors=1, p=2,\n",
              "                      weights='uniform'),\n",
              " 'knn3': KNeighborsClassifier(algorithm='auto', leaf_size=30, metric='minkowski',\n",
              "                      metric_params=None, n_jobs=None, n_neighbors=3, p=2,\n",
              "                      weights='uniform'),\n",
              " 'knn5': KNeighborsClassifier(algorithm='auto', leaf_size=30, metric='minkowski',\n",
              "                      metric_params=None, n_jobs=None, n_neighbors=5, p=2,\n",
              "                      weights='uniform'),\n",
              " 'knn7': KNeighborsClassifier(algorithm='auto', leaf_size=30, metric='minkowski',\n",
              "                      metric_params=None, n_jobs=None, n_neighbors=7, p=2,\n",
              "                      weights='uniform'),\n",
              " 'knn9': KNeighborsClassifier(algorithm='auto', leaf_size=30, metric='minkowski',\n",
              "                      metric_params=None, n_jobs=None, n_neighbors=9, p=2,\n",
              "                      weights='uniform')}"
            ]
          },
          "metadata": {
            "tags": []
          },
          "execution_count": 33
        }
      ]
    },
    {
      "cell_type": "code",
      "metadata": {
        "id": "IgXU7JejOikW",
        "colab_type": "code",
        "colab": {
          "base_uri": "https://localhost:8080/",
          "height": 115
        },
        "outputId": "3245f1ff-cd96-4c4b-c541-0735842ad66a"
      },
      "source": [
        "for name, model in models.items():\n",
        "    model.fit(x_train, y_train)\n",
        "    print(\"accuracy score for %s : (%.3f) on predicted values\" %(name, accuracy_score(y_test, model.predict(x_test))))"
      ],
      "execution_count": 39,
      "outputs": [
        {
          "output_type": "stream",
          "text": [
            "accuracy score for knn1 : (0.935) on predicted values\n",
            "accuracy score for knn3 : (0.945) on predicted values\n",
            "accuracy score for knn5 : (0.945) on predicted values\n",
            "accuracy score for knn7 : (0.930) on predicted values\n",
            "accuracy score for knn9 : (0.940) on predicted values\n",
            "accuracy score for hard-voting : (0.945) on predicted values\n"
          ],
          "name": "stdout"
        }
      ]
    },
    {
      "cell_type": "markdown",
      "metadata": {
        "id": "v4eqMCRrP_OC",
        "colab_type": "text"
      },
      "source": [
        "###Soft Voting Classifier"
      ]
    },
    {
      "cell_type": "code",
      "metadata": {
        "id": "BrWqjpD1eSd2",
        "colab_type": "code",
        "colab": {}
      },
      "source": [
        "from sklearn.svm import SVC\n",
        "from sklearn.preprocessing import StandardScaler"
      ],
      "execution_count": 0,
      "outputs": []
    },
    {
      "cell_type": "code",
      "metadata": {
        "id": "smMXTa7ydO-t",
        "colab_type": "code",
        "colab": {}
      },
      "source": [
        "def get_soft_voting():\n",
        "    models = list()\n",
        "    models.append(('svc1', SVC(probability=True, kernel='poly', degree=1)))\n",
        "    models.append(('svc2', SVC(probability=True, kernel='poly', degree=2)))\n",
        "    models.append(('svc3', SVC(probability=True, kernel='poly', degree=3)))\n",
        "    models.append(('svc4', SVC(probability=True, kernel='poly', degree=4)))\n",
        "    models.append(('svc5', SVC(probability=True, kernel='poly', degree=5)))\n",
        "    ensemble = VotingClassifier(estimators = models, voting='soft')\n",
        "    return ensemble"
      ],
      "execution_count": 0,
      "outputs": []
    },
    {
      "cell_type": "code",
      "metadata": {
        "id": "DWkQRW-8ciyH",
        "colab_type": "code",
        "colab": {}
      },
      "source": [
        "def get_models():\n",
        "    models = dict()\n",
        "    models['svc1'] = SVC(probability=True, kernel='poly', degree=1)\n",
        "    models['svc2'] = SVC(probability=True, kernel='poly', degree=2)\n",
        "    models['svc3'] = SVC(probability=True, kernel='poly', degree=3)\n",
        "    models['svc4'] = SVC(probability=True, kernel='poly', degree=4)\n",
        "    models['svc5'] = SVC(probability=True, kernel='poly', degree=5)\n",
        "    models['soft-voting'] = get_soft_voting()\n",
        "    return models"
      ],
      "execution_count": 0,
      "outputs": []
    },
    {
      "cell_type": "code",
      "metadata": {
        "id": "r-WRW4ardoLn",
        "colab_type": "code",
        "colab": {}
      },
      "source": [
        "def soft_evaluate(model, X, y):\n",
        "    cv = RepeatedStratifiedKFold(n_splits=10, n_repeats=3, random_state=42)\n",
        "    score = cross_val_score(model, X, y, scoring='accuracy', cv = cv, n_jobs=1, error_score='raise')\n",
        "    return score"
      ],
      "execution_count": 0,
      "outputs": []
    },
    {
      "cell_type": "code",
      "metadata": {
        "id": "DZNV-cQTecQJ",
        "colab_type": "code",
        "colab": {}
      },
      "source": [
        "sc_X = StandardScaler()\n",
        "x = sc_X.fit_transform(X)\n",
        "x_train, x_test, y_train, y_test = train_test_split(x, y, test_size = 0.2)"
      ],
      "execution_count": 0,
      "outputs": []
    },
    {
      "cell_type": "code",
      "metadata": {
        "id": "tVEK16BtgCGw",
        "colab_type": "code",
        "colab": {}
      },
      "source": [
        "models = get_models()"
      ],
      "execution_count": 0,
      "outputs": []
    },
    {
      "cell_type": "code",
      "metadata": {
        "id": "1o9JFOSJQBoC",
        "colab_type": "code",
        "colab": {
          "base_uri": "https://localhost:8080/",
          "height": 115
        },
        "outputId": "6ed7ee2e-3077-445d-f526-0c923877708d"
      },
      "source": [
        "res, names = list(), list()\n",
        "\n",
        "for name, model in models.items():\n",
        "    names.append(name)\n",
        "    score = soft_evaluate(model,x,y)\n",
        "    res.append(score)\n",
        "    print(\">>> %s %.3f (%.3f)\" % (name, score.mean(), score.std()))"
      ],
      "execution_count": 79,
      "outputs": [
        {
          "output_type": "stream",
          "text": [
            ">>> svc1 0.871 (0.036)\n",
            ">>> svc2 0.888 (0.025)\n",
            ">>> svc3 0.938 (0.027)\n",
            ">>> svc4 0.894 (0.024)\n",
            ">>> svc5 0.921 (0.025)\n",
            ">>> soft-voting 0.959 (0.019)\n"
          ],
          "name": "stdout"
        }
      ]
    },
    {
      "cell_type": "code",
      "metadata": {
        "id": "FhoelAw_cfao",
        "colab_type": "code",
        "colab": {
          "base_uri": "https://localhost:8080/",
          "height": 512
        },
        "outputId": "4b8ee17a-c3ea-4341-e31a-d27bf99c6b2f"
      },
      "source": [
        "plt.figure(figsize=(10,8))\n",
        "plt.boxplot(res, labels=names, showmeans=True)\n",
        "plt.xlabel('Model Names')\n",
        "plt.ylabel('Accuracy Score')\n",
        "plt.title('Performance of various Models')\n",
        "plt.show()"
      ],
      "execution_count": 80,
      "outputs": [
        {
          "output_type": "display_data",
          "data": {
            "image/png": "[encoded data removed]",
            "text/plain": [
              "<Figure size 720x576 with 1 Axes>"
            ]
          },
          "metadata": {
            "tags": [],
            "needs_background": "light"
          }
        }
      ]
    },
    {
      "cell_type": "code",
      "metadata": {
        "id": "qd-pUxYfhFmK",
        "colab_type": "code",
        "colab": {
          "base_uri": "https://localhost:8080/",
          "height": 700
        },
        "outputId": "ecd5db79-3fd6-4b74-8284-dd41a8e9ee9c"
      },
      "source": [
        "models"
      ],
      "execution_count": 81,
      "outputs": [
        {
          "output_type": "execute_result",
          "data": {
            "text/plain": [
              "{'soft-voting': VotingClassifier(estimators=[('svc1',\n",
              "                               SVC(C=1.0, break_ties=False, cache_size=200,\n",
              "                                   class_weight=None, coef0=0.0,\n",
              "                                   decision_function_shape='ovr', degree=1,\n",
              "                                   gamma='scale', kernel='poly', max_iter=-1,\n",
              "                                   probability=True, random_state=None,\n",
              "                                   shrinking=True, tol=0.001, verbose=False)),\n",
              "                              ('svc2',\n",
              "                               SVC(C=1.0, break_ties=False, cache_size=200,\n",
              "                                   class_weight=None, coef0=0.0,\n",
              "                                   decision_f...\n",
              "                                   probability=True, random_state=None,\n",
              "                                   shrinking=True, tol=0.001, verbose=False)),\n",
              "                              ('svc5',\n",
              "                               SVC(C=1.0, break_ties=False, cache_size=200,\n",
              "                                   class_weight=None, coef0=0.0,\n",
              "                                   decision_function_shape='ovr', degree=5,\n",
              "                                   gamma='scale', kernel='poly', max_iter=-1,\n",
              "                                   probability=True, random_state=None,\n",
              "                                   shrinking=True, tol=0.001, verbose=False))],\n",
              "                  flatten_transform=True, n_jobs=None, voting='soft',\n",
              "                  weights=None),\n",
              " 'svc1': SVC(C=1.0, break_ties=False, cache_size=200, class_weight=None, coef0=0.0,\n",
              "     decision_function_shape='ovr', degree=1, gamma='scale', kernel='poly',\n",
              "     max_iter=-1, probability=True, random_state=None, shrinking=True, tol=0.001,\n",
              "     verbose=False),\n",
              " 'svc2': SVC(C=1.0, break_ties=False, cache_size=200, class_weight=None, coef0=0.0,\n",
              "     decision_function_shape='ovr', degree=2, gamma='scale', kernel='poly',\n",
              "     max_iter=-1, probability=True, random_state=None, shrinking=True, tol=0.001,\n",
              "     verbose=False),\n",
              " 'svc3': SVC(C=1.0, break_ties=False, cache_size=200, class_weight=None, coef0=0.0,\n",
              "     decision_function_shape='ovr', degree=3, gamma='scale', kernel='poly',\n",
              "     max_iter=-1, probability=True, random_state=None, shrinking=True, tol=0.001,\n",
              "     verbose=False),\n",
              " 'svc4': SVC(C=1.0, break_ties=False, cache_size=200, class_weight=None, coef0=0.0,\n",
              "     decision_function_shape='ovr', degree=4, gamma='scale', kernel='poly',\n",
              "     max_iter=-1, probability=True, random_state=None, shrinking=True, tol=0.001,\n",
              "     verbose=False),\n",
              " 'svc5': SVC(C=1.0, break_ties=False, cache_size=200, class_weight=None, coef0=0.0,\n",
              "     decision_function_shape='ovr', degree=5, gamma='scale', kernel='poly',\n",
              "     max_iter=-1, probability=True, random_state=None, shrinking=True, tol=0.001,\n",
              "     verbose=False)}"
            ]
          },
          "metadata": {
            "tags": []
          },
          "execution_count": 81
        }
      ]
    },
    {
      "cell_type": "code",
      "metadata": {
        "id": "fv6li0kug5q1",
        "colab_type": "code",
        "colab": {
          "base_uri": "https://localhost:8080/",
          "height": 115
        },
        "outputId": "ff2bf5ac-4897-4afe-e12c-9c8822930133"
      },
      "source": [
        "for name, model in models.items():\n",
        "    model.fit(x_train, y_train)\n",
        "    print(\"accuracy score for %s : (%.3f) on predicted values\" %(name, accuracy_score(y_test, model.predict(x_test))))"
      ],
      "execution_count": 82,
      "outputs": [
        {
          "output_type": "stream",
          "text": [
            "accuracy score for svc1 : (0.880) on predicted values\n",
            "accuracy score for svc2 : (0.835) on predicted values\n",
            "accuracy score for svc3 : (0.920) on predicted values\n",
            "accuracy score for svc4 : (0.855) on predicted values\n",
            "accuracy score for svc5 : (0.905) on predicted values\n",
            "accuracy score for soft-voting : (0.935) on predicted values\n"
          ],
          "name": "stdout"
        }
      ]
    },
    {
      "cell_type": "code",
      "metadata": {
        "id": "gF6jbYx8hPC-",
        "colab_type": "code",
        "colab": {}
      },
      "source": [
        ""
      ],
      "execution_count": 0,
      "outputs": []
    },
    {
      "cell_type": "code",
      "metadata": {
        "id": "Yq76_c_3hfr2",
        "colab_type": "code",
        "colab": {}
      },
      "source": [
        ""
      ],
      "execution_count": 0,
      "outputs": []
    },
    {
      "cell_type": "markdown",
      "metadata": {
        "id": "xa_9nX3DhhOp",
        "colab_type": "text"
      },
      "source": [
        "##Voting Ensemble for Regression"
      ]
    },
    {
      "cell_type": "code",
      "metadata": {
        "id": "JTS_MVSEhfoj",
        "colab_type": "code",
        "colab": {}
      },
      "source": [
        "from sklearn.datasets import make_regression\n",
        "from sklearn.ensemble import VotingRegressor\n",
        "from sklearn.linear_model import LinearRegression\n",
        "from sklearn.tree import DecisionTreeRegressor\n",
        "from sklearn.ensemble import RandomForestRegressor\n",
        "from sklearn.metrics import mean_squared_error"
      ],
      "execution_count": 0,
      "outputs": []
    },
    {
      "cell_type": "code",
      "metadata": {
        "id": "uWylMsoBhflk",
        "colab_type": "code",
        "colab": {}
      },
      "source": [
        "def get_regression_dataset():\n",
        "    X,y = make_regression(n_samples=1000, n_features=20, n_informative=15, noise=0.1, random_state=42)\n",
        "    return X,y"
      ],
      "execution_count": 0,
      "outputs": []
    },
    {
      "cell_type": "code",
      "metadata": {
        "id": "8TtkTBiliOFS",
        "colab_type": "code",
        "colab": {}
      },
      "source": [
        "def ensemble_model():\n",
        "    models = list()\n",
        "    models.append(('cart1', DecisionTreeRegressor(max_depth=1)))\n",
        "    models.append(('cart2', DecisionTreeRegressor(max_depth=2)))\n",
        "    models.append(('cart3', DecisionTreeRegressor(max_depth=3)))\n",
        "    models.append(('cart4', DecisionTreeRegressor(max_depth=4)))\n",
        "    models.append(('cart5', DecisionTreeRegressor(max_depth=5)))\n",
        "    # define the voting ensemble\n",
        "    ensemble = VotingRegressor(estimators=models)\n",
        "    return ensemble"
      ],
      "execution_count": 0,
      "outputs": []
    },
    {
      "cell_type": "code",
      "metadata": {
        "id": "Ws19RiI4i6rs",
        "colab_type": "code",
        "colab": {}
      },
      "source": [
        "def all_models():\n",
        "    models = dict()\n",
        "    models['cart1'] = DecisionTreeRegressor(max_depth=1)\n",
        "    models['cart2'] = DecisionTreeRegressor(max_depth=2)\n",
        "    models['cart3'] = DecisionTreeRegressor(max_depth=3)\n",
        "    models['cart4'] = DecisionTreeRegressor(max_depth=4)\n",
        "    models['cart5'] = DecisionTreeRegressor(max_depth=5)\n",
        "    models['voting'] = ensemble_model()\n",
        "    return models"
      ],
      "execution_count": 0,
      "outputs": []
    },
    {
      "cell_type": "code",
      "metadata": {
        "id": "Y_bhlc6GjSOC",
        "colab_type": "code",
        "colab": {}
      },
      "source": [
        "def get_evaluated(model, X, y):\n",
        "    cv = RepeatedKFold(n_splits=10, n_repeats=3, random_state=42)\n",
        "    score = cross_val_score(model, X, y, scoring='neg_mean_absolute_error', cv= cv, n_jobs=1, error_score='raise')\n",
        "    return score"
      ],
      "execution_count": 0,
      "outputs": []
    },
    {
      "cell_type": "code",
      "metadata": {
        "id": "9mx_hV4xjtTN",
        "colab_type": "code",
        "colab": {}
      },
      "source": [
        "X,y  = get_regression_dataset()\n",
        "x_train, x_test, y_train, y_test = train_test_split(X, y, test_size = 0.2)"
      ],
      "execution_count": 0,
      "outputs": []
    },
    {
      "cell_type": "code",
      "metadata": {
        "id": "DX3zAj3EkFsS",
        "colab_type": "code",
        "colab": {
          "base_uri": "https://localhost:8080/",
          "height": 115
        },
        "outputId": "d3eb11c9-4e5a-4e52-a923-b0aa1af89655"
      },
      "source": [
        "models = all_models()\n",
        "res, names = list(), list()\n",
        "\n",
        "for name, model in models.items():\n",
        "    names.append(name)\n",
        "    score = get_evaluated(model,X,y)\n",
        "    res.append(score)\n",
        "    print(\">>> %s %.3f (%.3f)\" % (name, score.mean(), score.std()))"
      ],
      "execution_count": 109,
      "outputs": [
        {
          "output_type": "stream",
          "text": [
            ">>> cart1 -176.556 (11.680)\n",
            ">>> cart2 -170.902 (11.044)\n",
            ">>> cart3 -163.456 (10.426)\n",
            ">>> cart4 -157.211 (9.546)\n",
            ">>> cart5 -151.715 (10.642)\n",
            ">>> voting -153.636 (9.538)\n"
          ],
          "name": "stdout"
        }
      ]
    },
    {
      "cell_type": "code",
      "metadata": {
        "id": "IqOOOI83kV5v",
        "colab_type": "code",
        "colab": {
          "base_uri": "https://localhost:8080/",
          "height": 512
        },
        "outputId": "70419943-0bb1-42a6-c067-d127708bb27f"
      },
      "source": [
        "plt.figure(figsize=(10,8))\n",
        "plt.boxplot(res, labels=names, showmeans=True)\n",
        "plt.xlabel('Model Names')\n",
        "plt.ylabel('negative mean absolute error')\n",
        "plt.title('Performance of various Models')\n",
        "plt.show()"
      ],
      "execution_count": 110,
      "outputs": [
        {
          "output_type": "display_data",
          "data": {
            "image/png": "[encoded data removed]",
            "text/plain": [
              "<Figure size 720x576 with 1 Axes>"
            ]
          },
          "metadata": {
            "tags": [],
            "needs_background": "light"
          }
        }
      ]
    },
    {
      "cell_type": "code",
      "metadata": {
        "id": "2insgzJtl4Bq",
        "colab_type": "code",
        "colab": {
          "base_uri": "https://localhost:8080/",
          "height": 1000
        },
        "outputId": "fa43e59c-2f46-4062-eb24-8449bc0e6b36"
      },
      "source": [
        "models"
      ],
      "execution_count": 111,
      "outputs": [
        {
          "output_type": "execute_result",
          "data": {
            "text/plain": [
              "{'cart1': DecisionTreeRegressor(ccp_alpha=0.0, criterion='mse', max_depth=1,\n",
              "                       max_features=None, max_leaf_nodes=None,\n",
              "                       min_impurity_decrease=0.0, min_impurity_split=None,\n",
              "                       min_samples_leaf=1, min_samples_split=2,\n",
              "                       min_weight_fraction_leaf=0.0, presort='deprecated',\n",
              "                       random_state=None, splitter='best'),\n",
              " 'cart2': DecisionTreeRegressor(ccp_alpha=0.0, criterion='mse', max_depth=2,\n",
              "                       max_features=None, max_leaf_nodes=None,\n",
              "                       min_impurity_decrease=0.0, min_impurity_split=None,\n",
              "                       min_samples_leaf=1, min_samples_split=2,\n",
              "                       min_weight_fraction_leaf=0.0, presort='deprecated',\n",
              "                       random_state=None, splitter='best'),\n",
              " 'cart3': DecisionTreeRegressor(ccp_alpha=0.0, criterion='mse', max_depth=3,\n",
              "                       max_features=None, max_leaf_nodes=None,\n",
              "                       min_impurity_decrease=0.0, min_impurity_split=None,\n",
              "                       min_samples_leaf=1, min_samples_split=2,\n",
              "                       min_weight_fraction_leaf=0.0, presort='deprecated',\n",
              "                       random_state=None, splitter='best'),\n",
              " 'cart4': DecisionTreeRegressor(ccp_alpha=0.0, criterion='mse', max_depth=4,\n",
              "                       max_features=None, max_leaf_nodes=None,\n",
              "                       min_impurity_decrease=0.0, min_impurity_split=None,\n",
              "                       min_samples_leaf=1, min_samples_split=2,\n",
              "                       min_weight_fraction_leaf=0.0, presort='deprecated',\n",
              "                       random_state=None, splitter='best'),\n",
              " 'cart5': DecisionTreeRegressor(ccp_alpha=0.0, criterion='mse', max_depth=5,\n",
              "                       max_features=None, max_leaf_nodes=None,\n",
              "                       min_impurity_decrease=0.0, min_impurity_split=None,\n",
              "                       min_samples_leaf=1, min_samples_split=2,\n",
              "                       min_weight_fraction_leaf=0.0, presort='deprecated',\n",
              "                       random_state=None, splitter='best'),\n",
              " 'voting': VotingRegressor(estimators=[('cart1',\n",
              "                              DecisionTreeRegressor(ccp_alpha=0.0,\n",
              "                                                    criterion='mse', max_depth=1,\n",
              "                                                    max_features=None,\n",
              "                                                    max_leaf_nodes=None,\n",
              "                                                    min_impurity_decrease=0.0,\n",
              "                                                    min_impurity_split=None,\n",
              "                                                    min_samples_leaf=1,\n",
              "                                                    min_samples_split=2,\n",
              "                                                    min_weight_fraction_leaf=0.0,\n",
              "                                                    presort='deprecated',\n",
              "                                                    random_state=None,\n",
              "                                                    splitter='best')),\n",
              "                             ('cart2',\n",
              "                              DecisionTreeRegressor(ccp_a...\n",
              "                                                    presort='deprecated',\n",
              "                                                    random_state=None,\n",
              "                                                    splitter='best')),\n",
              "                             ('cart5',\n",
              "                              DecisionTreeRegressor(ccp_alpha=0.0,\n",
              "                                                    criterion='mse', max_depth=5,\n",
              "                                                    max_features=None,\n",
              "                                                    max_leaf_nodes=None,\n",
              "                                                    min_impurity_decrease=0.0,\n",
              "                                                    min_impurity_split=None,\n",
              "                                                    min_samples_leaf=1,\n",
              "                                                    min_samples_split=2,\n",
              "                                                    min_weight_fraction_leaf=0.0,\n",
              "                                                    presort='deprecated',\n",
              "                                                    random_state=None,\n",
              "                                                    splitter='best'))],\n",
              "                 n_jobs=None, weights=None)}"
            ]
          },
          "metadata": {
            "tags": []
          },
          "execution_count": 111
        }
      ]
    },
    {
      "cell_type": "code",
      "metadata": {
        "id": "B4iqa3P3lwft",
        "colab_type": "code",
        "colab": {
          "base_uri": "https://localhost:8080/",
          "height": 115
        },
        "outputId": "4e5e5f1c-4c88-47a9-e406-71cccb98e057"
      },
      "source": [
        "for name, model in models.items():\n",
        "    model.fit(x_train, y_train)\n",
        "    print(\"RMSE score for %s : (%.3f) on predicted values\" %(name, np.sqrt(mean_squared_error(y_test, model.predict(x_test)))))"
      ],
      "execution_count": 113,
      "outputs": [
        {
          "output_type": "stream",
          "text": [
            "RMSE score for cart1 : (219.233) on predicted values\n",
            "RMSE score for cart2 : (211.741) on predicted values\n",
            "RMSE score for cart3 : (199.711) on predicted values\n",
            "RMSE score for cart4 : (186.982) on predicted values\n",
            "RMSE score for cart5 : (187.322) on predicted values\n",
            "RMSE score for voting : (189.633) on predicted values\n"
          ],
          "name": "stdout"
        }
      ]
    },
    {
      "cell_type": "code",
      "metadata": {
        "id": "ne3NFrual5us",
        "colab_type": "code",
        "colab": {}
      },
      "source": [
        ""
      ],
      "execution_count": 0,
      "outputs": []
    },
    {
      "cell_type": "markdown",
      "metadata": {
        "id": "L_Mv0O3pmHXL",
        "colab_type": "text"
      },
      "source": [
        "###Ensembling Model for Regression using different ML Models"
      ]
    },
    {
      "cell_type": "code",
      "metadata": {
        "id": "jYPxtH8gmpE-",
        "colab_type": "code",
        "colab": {}
      },
      "source": [
        "from sklearn.pipeline import make_pipeline"
      ],
      "execution_count": 0,
      "outputs": []
    },
    {
      "cell_type": "code",
      "metadata": {
        "id": "UFd6zgG6mGks",
        "colab_type": "code",
        "colab": {}
      },
      "source": [
        "models = list()\n",
        "models.append(('linear-reg', LinearRegression(normalize=True)))\n",
        "models.append(('RandomForestRegressor', make_pipeline(StandardScaler(), RandomForestRegressor())))\n",
        "models.append(('DecisionTreeRegressor', make_pipeline(StandardScaler(), DecisionTreeRegressor(max_depth=4))))\n",
        "\n",
        "ensemble_model = VotingRegressor(estimators=models)"
      ],
      "execution_count": 0,
      "outputs": []
    },
    {
      "cell_type": "code",
      "metadata": {
        "id": "k5E5QuHBmGhG",
        "colab_type": "code",
        "colab": {
          "base_uri": "https://localhost:8080/",
          "height": 33
        },
        "outputId": "7b24c220-a55d-4abe-f62d-a8030490446f"
      },
      "source": [
        "score = get_evaluated(ensemble_model, x_train, y_train)\n",
        "print(\">>> %s %.3f (%.3f)\" % (name, score.mean(), score.std()))"
      ],
      "execution_count": 121,
      "outputs": [
        {
          "output_type": "stream",
          "text": [
            ">>> voting -84.709 (6.916)\n"
          ],
          "name": "stdout"
        }
      ]
    },
    {
      "cell_type": "code",
      "metadata": {
        "id": "nYl9PGYlmGdz",
        "colab_type": "code",
        "colab": {}
      },
      "source": [
        "ensemble_model.fit(x_train, y_train)\n",
        "y_pred = ensemble_model.predict(x_test)"
      ],
      "execution_count": 0,
      "outputs": []
    },
    {
      "cell_type": "code",
      "metadata": {
        "id": "KhbKuGixoc7I",
        "colab_type": "code",
        "colab": {
          "base_uri": "https://localhost:8080/",
          "height": 33
        },
        "outputId": "42bbbdde-dca5-4cfa-edb6-08632080045a"
      },
      "source": [
        "print(\"RMSE score for %s : (%.3f) on predicted values\" %(name, np.sqrt(mean_squared_error(y_test, y_pred))))"
      ],
      "execution_count": 125,
      "outputs": [
        {
          "output_type": "stream",
          "text": [
            "RMSE score for voting : (102.107) on predicted values\n"
          ],
          "name": "stdout"
        }
      ]
    },
    {
      "cell_type": "markdown",
      "metadata": {
        "id": "TIqLJizfox8J",
        "colab_type": "text"
      },
      "source": [
        "So, we can see the use of ensembling of models"
      ]
    },
    {
      "cell_type": "code",
      "metadata": {
        "id": "6a7Yr7KLos7X",
        "colab_type": "code",
        "colab": {}
      },
      "source": [
        ""
      ],
      "execution_count": 0,
      "outputs": []
    }
  ]
}